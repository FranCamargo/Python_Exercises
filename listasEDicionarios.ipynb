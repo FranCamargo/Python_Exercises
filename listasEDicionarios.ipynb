{
 "cells": [
  {
   "cell_type": "code",
   "execution_count": 1,
   "metadata": {},
   "outputs": [
    {
     "name": "stdout",
     "output_type": "stream",
     "text": [
      "Criando e manipulando listas\n"
     ]
    }
   ],
   "source": [
    "print(\"Criando e manipulando listas\")"
   ]
  },
  {
   "cell_type": "code",
   "execution_count": 2,
   "metadata": {},
   "outputs": [
    {
     "name": "stdout",
     "output_type": "stream",
     "text": [
      "[1, 2, 3, 4, 5]\n"
     ]
    }
   ],
   "source": [
    "#Definindo a lista e imprimindo\n",
    "lista = [1, 2, 3, 4, 5]\n",
    "print(lista)"
   ]
  },
  {
   "cell_type": "code",
   "execution_count": 24,
   "metadata": {},
   "outputs": [
    {
     "name": "stdout",
     "output_type": "stream",
     "text": [
      "3\n"
     ]
    }
   ],
   "source": [
    "#Exibe o elemento da posição 2 da lista\n",
    "print(f\"{lista[2]}\")"
   ]
  },
  {
   "cell_type": "code",
   "execution_count": 25,
   "metadata": {},
   "outputs": [
    {
     "name": "stdout",
     "output_type": "stream",
     "text": [
      "['Amora', 'Banana', 'Caju', 'Damasco', 'Ervilha']\n"
     ]
    }
   ],
   "source": [
    "#Cria uma lista com vários itens\n",
    "lista2 = [\"Amora\", \"Banana\", \"Caju\", \"Damasco\", \"Ervilha\"]\n",
    "print(lista2)"
   ]
  },
  {
   "cell_type": "code",
   "execution_count": 26,
   "metadata": {},
   "outputs": [
    {
     "name": "stdout",
     "output_type": "stream",
     "text": [
      "['Amora, Banana, Caju, Damasco, Ervilha']\n"
     ]
    }
   ],
   "source": [
    "#Cria uma lista com um único item\n",
    "lista3 = [\"Amora, Banana, Caju, Damasco, Ervilha\"]\n",
    "print(lista3)"
   ]
  },
  {
   "cell_type": "code",
   "execution_count": 27,
   "metadata": {},
   "outputs": [
    {
     "name": "stdout",
     "output_type": "stream",
     "text": [
      "[[1, 2, 3], [4, 5, 6], [7, 8, 9]]\n"
     ]
    }
   ],
   "source": [
    "#Cria uma lista de listas   \n",
    "lista4 = [[1, 2, 3], [4, 5, 6], [7, 8, 9]]\n",
    "print(lista4)"
   ]
  },
  {
   "cell_type": "code",
   "execution_count": 56,
   "metadata": {},
   "outputs": [
    {
     "name": "stdout",
     "output_type": "stream",
     "text": [
      "[{'amora': 1, 'banana': 2, 'caju': 3}, {'damasco': 4, 'ervilha': 5}]\n",
      "<class 'list'>\n"
     ]
    }
   ],
   "source": [
    "#Cria uma lista de dicionário (chave-valor)\n",
    "lista5 = [{\"amora\": 1, \"banana\": 2, \"caju\": 3}, {\"damasco\": 4, \"ervilha\": 5}]\n",
    "print(lista5)\n",
    "print(type(lista5))"
   ]
  },
  {
   "cell_type": "code",
   "execution_count": 33,
   "metadata": {},
   "outputs": [
    {
     "name": "stdout",
     "output_type": "stream",
     "text": [
      "1\n",
      "5\n",
      "4\n"
     ]
    }
   ],
   "source": [
    "#Exibe o valor da chave \"amora\" do primeiro (elemento 0)dicionário da lista5\n",
    "print(lista5[0][\"amora\"])\n",
    "#Exibe o valor da chave \"ervilha\" do segundo (elemento 1) dicionário da lista5\n",
    "print(lista5[1][\"ervilha\"])\n",
    "#Exibe o valor da chave \"damasco\" do segundo (elemento 1) dicionário da lista5\n",
    "print(lista5[1][\"damasco\"])"
   ]
  },
  {
   "cell_type": "code",
   "execution_count": 30,
   "metadata": {},
   "outputs": [
    {
     "name": "stdout",
     "output_type": "stream",
     "text": [
      "[1, 2, 3, 4, 5, 'Amora', 'Banana', 'Caju', 'Damasco', 'Ervilha']\n"
     ]
    }
   ],
   "source": [
    "#Concatenando listas\n",
    "print(lista + lista2)"
   ]
  },
  {
   "cell_type": "code",
   "execution_count": 31,
   "metadata": {},
   "outputs": [
    {
     "name": "stdout",
     "output_type": "stream",
     "text": [
      "<class 'list'>\n"
     ]
    }
   ],
   "source": [
    "#Verificando tipo de lista\n",
    "print(type(lista3))"
   ]
  },
  {
   "cell_type": "code",
   "execution_count": 32,
   "metadata": {},
   "outputs": [
    {
     "name": "stdout",
     "output_type": "stream",
     "text": [
      "5\n"
     ]
    }
   ],
   "source": [
    "#Verificando o tamanho da lista\n",
    "print(len(lista2))"
   ]
  },
  {
   "cell_type": "code",
   "execution_count": 48,
   "metadata": {},
   "outputs": [
    {
     "name": "stdout",
     "output_type": "stream",
     "text": [
      "['Amora', 'Banana', 'Goiaba', 'Goiaba', 'Goiaba', 'Goiaba', 'Goiaba', 'Goiaba', 'Caju', 'Damasco', 'Ervilha', 'Figo', 'Figo', 'Figo', 'Figo', 'Figo', 'Figo', 'Figo', 'Figo', 'Figo', 'Figo', 'Figo', 'Figo', 'Figo']\n",
      "['Amora', 'Banana', 'Goiaba', 'Goiaba', 'Goiaba', 'Goiaba', 'Goiaba', 'Goiaba', 'Goiaba', 'Caju', 'Damasco', 'Ervilha', 'Figo', 'Figo', 'Figo', 'Figo', 'Figo', 'Figo', 'Figo', 'Figo', 'Figo', 'Figo', 'Figo', 'Figo', 'Figo']\n",
      "['Amora', 'Banana', 'Goiaba', 'Goiaba', 'Goiaba', 'Goiaba', 'Goiaba', 'Goiaba', 'Caju', 'Damasco', 'Ervilha', 'Figo', 'Figo', 'Figo', 'Figo', 'Figo', 'Figo', 'Figo', 'Figo', 'Figo', 'Figo', 'Figo', 'Figo', 'Figo']\n"
     ]
    }
   ],
   "source": [
    "#Adicionando um item à lista na ultima posição\n",
    "lista2.append(\"Figo\")\n",
    "print(lista2)\n",
    "\n",
    "#Adicionando um item à lista em uma posição específica\n",
    "lista2.insert(2, \"Goiaba\")\n",
    "print(lista2)\n",
    "\n",
    "#Removendo um item da lista\n",
    "lista2.remove(\"Goiaba\")\n",
    "print(lista2)"
   ]
  },
  {
   "cell_type": "code",
   "execution_count": 52,
   "metadata": {},
   "outputs": [
    {
     "name": "stdout",
     "output_type": "stream",
     "text": [
      "['Amora', 'Banana', 'Goiaba', 'Goiaba', 'Goiaba', 'Goiaba', 'Goiaba', 'Goiaba', 'Caju', 'Damasco', 'Ervilha', 'Figo', 'Figo', 'Figo', 'Figo', 'Figo', 'Figo', 'Figo', 'Figo', 'Figo', 'Figo', 'Figo', 'Figo', 'Figo']\n",
      "['Amora', 'Banana', 'Goiaba', 'Caju', 'Damasco', 'Ervilha', 'Figo']\n",
      "['Amora', 'Banana', 'Goiaba', 'Caju', 'Damasco', 'Ervilha', 'Figo', 'Roma', 'Kiwi']\n"
     ]
    }
   ],
   "source": [
    "# Lista original com itens repetidos\n",
    "print(lista2)\n",
    "\n",
    "# Remover itens repetidos mantendo a ordem\n",
    "listaNova = []\n",
    "\n",
    "for i in lista2: \n",
    "    if i not in listaNova: \n",
    "        listaNova.append(i)\n",
    "        \n",
    "print(listaNova)\n",
    "\n",
    "#Adicionando mais de um item à lista de uma vez\n",
    "listaNova.extend([\"Roma\",\"Kiwi\"])\n",
    "print(listaNova)"
   ]
  },
  {
   "cell_type": "code",
   "execution_count": 55,
   "metadata": {},
   "outputs": [
    {
     "name": "stdout",
     "output_type": "stream",
     "text": [
      "['Amora', 'Banana', 'Goiaba', 'Caju', 'Damasco', 'Ervilha', 'Figo', 'Roma', 'Kiwi']\n",
      "Imprimindo a lista de trás pra frente: \n",
      "['Kiwi', 'Roma', 'Figo', 'Ervilha', 'Damasco', 'Caju', 'Goiaba', 'Banana', 'Amora']\n"
     ]
    }
   ],
   "source": [
    "print(listaNova)\n",
    "print(f\"Imprimindo a lista de trás pra frente: \\n{listaNova[::-1]}\")"
   ]
  },
  {
   "cell_type": "code",
   "execution_count": 57,
   "metadata": {},
   "outputs": [
    {
     "name": "stdout",
     "output_type": "stream",
     "text": [
      "{'amora': 1, 'banana': 2, 'caju': 3, 'damasco': 4, 'ervilha': 5}\n",
      "<class 'dict'>\n"
     ]
    }
   ],
   "source": [
    "#Criando e exibindo um dicionário\n",
    "frutas = {\"amora\": 1, \"banana\": 2, \"caju\": 3, \"damasco\": 4, \"ervilha\": 5}\n",
    "print(frutas) \n",
    "print(type(frutas))"
   ]
  },
  {
   "cell_type": "code",
   "execution_count": 70,
   "metadata": {},
   "outputs": [
    {
     "name": "stdout",
     "output_type": "stream",
     "text": [
      "{'amora': 1, 'caju': 3, 'damasco': 4, 'ervilha': 5, 'carambola': 7, 'lista Adicionada': ['Amora', 'Banana', 'Goiaba', 'Goiaba', 'Goiaba', 'Goiaba', 'Goiaba', 'Goiaba', 'Caju', 'Damasco', 'Ervilha', 'Figo', 'Figo', 'Figo', 'Figo', 'Figo', 'Figo', 'Figo', 'Figo', 'Figo', 'Figo', 'Figo', 'Figo', 'Figo']}\n",
      "{'amora': 1, 'caju': 3, 'damasco': 4, 'ervilha': 5, 'carambola': 7, 'lista Adicionada': ['Amora', 'Banana', 'Goiaba', 'Goiaba', 'Goiaba', 'Goiaba', 'Goiaba', 'Goiaba', 'Caju', 'Damasco', 'Ervilha', 'Figo', 'Figo', 'Figo', 'Figo', 'Figo', 'Figo', 'Figo', 'Figo', 'Figo', 'Figo', 'Figo', 'Figo', 'Figo']}\n",
      "dict_keys(['amora', 'caju', 'damasco', 'ervilha', 'carambola', 'lista Adicionada'])\n",
      "dict_values([1, 3, 4, 5, 7, ['Amora', 'Banana', 'Goiaba', 'Goiaba', 'Goiaba', 'Goiaba', 'Goiaba', 'Goiaba', 'Caju', 'Damasco', 'Ervilha', 'Figo', 'Figo', 'Figo', 'Figo', 'Figo', 'Figo', 'Figo', 'Figo', 'Figo', 'Figo', 'Figo', 'Figo', 'Figo']])\n",
      "dict_items([('amora', 1), ('caju', 3), ('damasco', 4), ('ervilha', 5), ('carambola', 7), ('lista Adicionada', ['Amora', 'Banana', 'Goiaba', 'Goiaba', 'Goiaba', 'Goiaba', 'Goiaba', 'Goiaba', 'Caju', 'Damasco', 'Ervilha', 'Figo', 'Figo', 'Figo', 'Figo', 'Figo', 'Figo', 'Figo', 'Figo', 'Figo', 'Figo', 'Figo', 'Figo', 'Figo'])])\n",
      "{'amora': 1, 'damasco': 4, 'ervilha': 5, 'carambola': 7, 'lista Adicionada': ['Amora', 'Banana', 'Goiaba', 'Goiaba', 'Goiaba', 'Goiaba', 'Goiaba', 'Goiaba', 'Caju', 'Damasco', 'Ervilha', 'Figo', 'Figo', 'Figo', 'Figo', 'Figo', 'Figo', 'Figo', 'Figo', 'Figo', 'Figo', 'Figo', 'Figo', 'Figo']}\n"
     ]
    }
   ],
   "source": [
    "#Manipulando dicionários\n",
    "print(frutas)\n",
    "\n",
    "#Adicionando um novo item ao dicionário\n",
    "frutas[\"carambola\"] = 7\n",
    "print(frutas)\n",
    "\n",
    "#imprimindo apenas as chaves\n",
    "print(frutas.keys())\n",
    "\n",
    "#imprimindo apenas os valores\n",
    "print(frutas.values())\n",
    "\n",
    "#imprimindo chaves e valores\n",
    "print(frutas.items())\n",
    "\n",
    "#Removendo um item do dicionário\n",
    "del frutas[\"caju\"]\n",
    "print(frutas)"
   ]
  },
  {
   "cell_type": "code",
   "execution_count": 71,
   "metadata": {},
   "outputs": [
    {
     "name": "stdout",
     "output_type": "stream",
     "text": [
      "{'amora': 1, 'damasco': 4, 'ervilha': 5, 'carambola': 7, 'lista Adicionada': ['Amora', 'Banana', 'Goiaba', 'Goiaba', 'Goiaba', 'Goiaba', 'Goiaba', 'Goiaba', 'Caju', 'Damasco', 'Ervilha', 'Figo', 'Figo', 'Figo', 'Figo', 'Figo', 'Figo', 'Figo', 'Figo', 'Figo', 'Figo', 'Figo', 'Figo', 'Figo']}\n"
     ]
    }
   ],
   "source": [
    "#Adicionando uma lista dentro de um dicionário\n",
    "frutas[\"lista Adicionada\"] = lista2\n",
    "print(frutas)"
   ]
  },
  {
   "cell_type": "code",
   "execution_count": 86,
   "metadata": {},
   "outputs": [
    {
     "name": "stdout",
     "output_type": "stream",
     "text": [
      "AMORA\n",
      "GOIABA\n",
      "ERVILHA\n"
     ]
    }
   ],
   "source": [
    "#Imprimindo um item da lista que está dentro do dicionário em caixa alta    \n",
    "print(frutas[\"lista Adicionada\"][0].upper())\n",
    "\n",
    "print(frutas[\"lista Adicionada\"][2].upper())\n",
    "\n",
    "print(frutas[\"lista Adicionada\"][10].upper())"
   ]
  }
 ],
 "metadata": {
  "kernelspec": {
   "display_name": "DSA",
   "language": "python",
   "name": "python3"
  },
  "language_info": {
   "codemirror_mode": {
    "name": "ipython",
    "version": 3
   },
   "file_extension": ".py",
   "mimetype": "text/x-python",
   "name": "python",
   "nbconvert_exporter": "python",
   "pygments_lexer": "ipython3",
   "version": "3.13.1"
  }
 },
 "nbformat": 4,
 "nbformat_minor": 2
}
