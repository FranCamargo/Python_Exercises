{
 "cells": [
  {
   "cell_type": "code",
   "execution_count": 1,
   "metadata": {},
   "outputs": [
    {
     "name": "stdout",
     "output_type": "stream",
     "text": [
      "Ordenação de lista usando Bubble Sort\n"
     ]
    }
   ],
   "source": [
    "print(\"Ordenação de lista usando Bubble Sort\")"
   ]
  },
  {
   "cell_type": "code",
   "execution_count": 15,
   "metadata": {},
   "outputs": [
    {
     "name": "stdout",
     "output_type": "stream",
     "text": [
      "Lista desordenada:  [7, 9, 4, 3, 1, 5, 8, 2, 6]\n",
      "Tamanho da lista:  9\n",
      "Lista ordenada: [1, 2, 3, 4, 5, 6, 7, 8, 9]\n"
     ]
    }
   ],
   "source": [
    "lista = [7,9,4,3,1,5,8,2,6]\n",
    "\n",
    "\n",
    "\n",
    "#verifique se o primeiro elemento é maior que o último e troque de lugar caso seja, até que o último elemento seja o maior de todos.\n",
    "\n",
    "def bubble_sort(lista):\n",
    "    n = len(lista)\n",
    "    for i in range(n):\n",
    "        for j in range(0, n-i-1):\n",
    "            if lista[j] > lista[j+1]:\n",
    "                # Troca os elementos se estiverem na ordem errada\n",
    "                lista[j], lista[j+1] = lista[j+1], lista[j]\n",
    "    return lista\n",
    "\n",
    "print(\"Lista desordenada: \", lista)\n",
    "print(\"Tamanho da lista: \", len(lista))\n",
    "lista_ordenada = bubble_sort(lista)\n",
    "print(\"Lista ordenada:\", lista_ordenada)\n"
   ]
  }
 ],
 "metadata": {
  "kernelspec": {
   "display_name": "DSA",
   "language": "python",
   "name": "python3"
  },
  "language_info": {
   "codemirror_mode": {
    "name": "ipython",
    "version": 3
   },
   "file_extension": ".py",
   "mimetype": "text/x-python",
   "name": "python",
   "nbconvert_exporter": "python",
   "pygments_lexer": "ipython3",
   "version": "3.13.1"
  }
 },
 "nbformat": 4,
 "nbformat_minor": 2
}
