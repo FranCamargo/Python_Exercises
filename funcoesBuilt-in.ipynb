{
 "cells": [
  {
   "cell_type": "code",
   "execution_count": 5,
   "metadata": {},
   "outputs": [
    {
     "name": "stdout",
     "output_type": "stream",
     "text": [
      "Funções Built-in são funções pré-definidas nas bibliotecas, ou seja, que já estão \n",
      " disponíveis para usado sem necessidade de criar 'defs' para usar\n"
     ]
    }
   ],
   "source": [
    "print(\"Funções Built-in são funções pré-definidas nas bibliotecas, ou seja, que já estão \\n disponíveis para usado sem necessidade de criar 'defs' para usar\")"
   ]
  },
  {
   "cell_type": "code",
   "execution_count": 9,
   "metadata": {},
   "outputs": [
    {
     "name": "stdout",
     "output_type": "stream",
     "text": [
      "Atribuindo um valor á uma variável para manipulação com as funções built-in\n",
      "Frase inicial: Python é uma linguagem de programação\n"
     ]
    }
   ],
   "source": [
    "print(\"Atribuindo um valor á uma variável para manipulação com as funções built-in\")\n",
    "\n",
    "frase = \"Python é uma linguagem de programação\"\n",
    "print(f\"Frase inicial: {frase}\")"
   ]
  },
  {
   "cell_type": "code",
   "execution_count": 11,
   "metadata": {},
   "outputs": [
    {
     "name": "stdout",
     "output_type": "stream",
     "text": [
      "PYTHON É UMA LINGUAGEM DE PROGRAMAÇÃO\n"
     ]
    }
   ],
   "source": [
    "# Converte a string para maiúscula\n",
    "print(frase.upper()) "
   ]
  },
  {
   "cell_type": "code",
   "execution_count": 12,
   "metadata": {},
   "outputs": [
    {
     "name": "stdout",
     "output_type": "stream",
     "text": [
      "python é uma linguagem de programação\n"
     ]
    }
   ],
   "source": [
    "# Converte a string para minúscula\n",
    "print(frase.lower()) "
   ]
  },
  {
   "cell_type": "code",
   "execution_count": 13,
   "metadata": {},
   "outputs": [
    {
     "name": "stdout",
     "output_type": "stream",
     "text": [
      "Python é uma linguagem de programação\n"
     ]
    }
   ],
   "source": [
    " # Converte a primeira letra da string para maiúscula\n",
    "print(frase.capitalize())"
   ]
  },
  {
   "cell_type": "code",
   "execution_count": 14,
   "metadata": {},
   "outputs": [
    {
     "name": "stdout",
     "output_type": "stream",
     "text": [
      "Python É Uma Linguagem De Programação\n"
     ]
    }
   ],
   "source": [
    "# Converte a primeira letra de cada palavra para maiúscula\n",
    "print(frase.title()) "
   ]
  },
  {
   "cell_type": "code",
   "execution_count": 15,
   "metadata": {},
   "outputs": [
    {
     "name": "stdout",
     "output_type": "stream",
     "text": [
      "['Python', 'é', 'uma', 'linguagem', 'de', 'programação']\n"
     ]
    }
   ],
   "source": [
    "# Divide a string em uma lista de palavras\n",
    "print(frase.split()) "
   ]
  },
  {
   "cell_type": "code",
   "execution_count": 16,
   "metadata": {},
   "outputs": [
    {
     "name": "stdout",
     "output_type": "stream",
     "text": [
      "4\n"
     ]
    }
   ],
   "source": [
    "# Conta quantas vezes a letra \"a\" aparece na string\n",
    "print(frase.count(\"a\")) "
   ]
  },
  {
   "cell_type": "code",
   "execution_count": 17,
   "metadata": {},
   "outputs": [
    {
     "name": "stdout",
     "output_type": "stream",
     "text": [
      "Java é uma linguagem de programação\n"
     ]
    }
   ],
   "source": [
    "# Substitui a palavra \"Python\" por \"Java\"\n",
    "print(frase.replace(\"Python\", \"Java\")) "
   ]
  },
  {
   "cell_type": "code",
   "execution_count": 18,
   "metadata": {},
   "outputs": [
    {
     "name": "stdout",
     "output_type": "stream",
     "text": [
      "13\n"
     ]
    }
   ],
   "source": [
    "# Retorna a posição da palavra \"linguagem\" na string\n",
    "print(frase.find(\"linguagem\")) "
   ]
  },
  {
   "cell_type": "code",
   "execution_count": 19,
   "metadata": {},
   "outputs": [
    {
     "name": "stdout",
     "output_type": "stream",
     "text": [
      "True\n"
     ]
    }
   ],
   "source": [
    "# Verifica se a string começa com a palavra \"Python\"\n",
    "print(frase.startswith(\"Python\")) "
   ]
  },
  {
   "cell_type": "code",
   "execution_count": 20,
   "metadata": {},
   "outputs": [
    {
     "name": "stdout",
     "output_type": "stream",
     "text": [
      "True\n"
     ]
    }
   ],
   "source": [
    "# Verifica se a string termina com a palavra \"programação\"\n",
    "print(frase.endswith(\"programação\")) "
   ]
  },
  {
   "cell_type": "code",
   "execution_count": 21,
   "metadata": {},
   "outputs": [
    {
     "name": "stdout",
     "output_type": "stream",
     "text": [
      "False\n"
     ]
    }
   ],
   "source": [
    "# Verifica se a string é toda de números    \n",
    "print(frase.isalnum())"
   ]
  },
  {
   "cell_type": "code",
   "execution_count": 33,
   "metadata": {},
   "outputs": [
    {
     "name": "stdout",
     "output_type": "stream",
     "text": [
      "False\n",
      "True\n"
     ]
    }
   ],
   "source": [
    "# Verifica se a string é toda de letras *pra ser alpha não pode ter espaços*\n",
    "print(frase.isalpha())\n",
    "print(frase.isascii())"
   ]
  }
 ],
 "metadata": {
  "kernelspec": {
   "display_name": "DSA",
   "language": "python",
   "name": "python3"
  },
  "language_info": {
   "codemirror_mode": {
    "name": "ipython",
    "version": 3
   },
   "file_extension": ".py",
   "mimetype": "text/x-python",
   "name": "python",
   "nbconvert_exporter": "python",
   "pygments_lexer": "ipython3",
   "version": "3.13.1"
  }
 },
 "nbformat": 4,
 "nbformat_minor": 2
}
