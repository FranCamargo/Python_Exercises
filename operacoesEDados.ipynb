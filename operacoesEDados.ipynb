{
 "cells": [
  {
   "cell_type": "code",
   "execution_count": 20,
   "metadata": {},
   "outputs": [
    {
     "name": "stdout",
     "output_type": "stream",
     "text": [
      "É importante conhecer a linguagem e semântica de uma linguagem de programação para poder programar de verdade \n",
      " e não somente copiar do chatGPT.\n"
     ]
    }
   ],
   "source": [
    "print(\"É importante conhecer a linguagem e semântica de uma linguagem de programação para poder programar de verdade \\n e não somente copiar do chatGPT.\")"
   ]
  },
  {
   "cell_type": "code",
   "execution_count": 17,
   "metadata": {},
   "outputs": [
    {
     "name": "stdout",
     "output_type": "stream",
     "text": [
      "==========ANÁLISE DE TIPOS DE DADOS============\n",
      "O tipo de dado da variável 10 é:  <class 'int'>\n",
      "O tipo de dado da variável 45.2 é:  <class 'float'>\n",
      "O tipo de dado da variável lol é:  <class 'str'>\n",
      "O tipo de dado da variável True é:  <class 'bool'>\n"
     ]
    }
   ],
   "source": [
    "print(\"==========ANÁLISE DE TIPOS DE DADOS============\")\n",
    "\n",
    "\n",
    "#Variáveis\n",
    "x = 10\n",
    "y = 45.2\n",
    "z = \"lol\"\n",
    "w = True\n",
    "\n",
    "# Verificando o tipo de dado da variável recebida\n",
    "print (f\"O tipo de dado da variável {x} é: \", type(x))\n",
    "print (f\"O tipo de dado da variável {y} é: \", type(y))\n",
    "print (f\"O tipo de dado da variável {z} é: \", type(z))\n",
    "print (f\"O tipo de dado da variável {w} é: \", type(w))\n",
    "\n"
   ]
  },
  {
   "cell_type": "code",
   "execution_count": 4,
   "metadata": {},
   "outputs": [
    {
     "name": "stdout",
     "output_type": "stream",
     "text": [
      "==========Estruturas Condicionais============\n",
      "O número 45 é ímpar.\n"
     ]
    }
   ],
   "source": [
    "print(\"==========IF ELSE============\")   \n",
    "print(\"==========Par ou Impar============\")    \n",
    "\n",
    "#Este programa verifica se um número é par ou ímpar\n",
    "num = input(\"Digite um número: \")\n",
    "\n",
    "if int(num) % 2 == 0:\n",
    "    print(f\"O número {num} é par.\")\n",
    "else:\n",
    "    print(f\"O número {num} é ímpar.\")"
   ]
  },
  {
   "cell_type": "code",
   "execution_count": 31,
   "metadata": {},
   "outputs": [
    {
     "name": "stdout",
     "output_type": "stream",
     "text": [
      "==========LISTAS============\n",
      "Há 10 países na lista.\n",
      "O primeiro país da lista é: Brasil\n",
      "O último país da lista é: Bolívia\n",
      "Os países do meio da lista são: ['Argentina', 'Chile', 'Peru', 'Colombia', 'Uruguai', 'Paraguai', 'Venezuela', 'Equador']\n",
      "O país no meio da lista é: ['Uruguai']\n",
      "O país na posição 7 da lista é: Venezuela\n",
      "As letras iniciais dos países são: B, A, C, P, C, U, P, V, E, B\n"
     ]
    }
   ],
   "source": [
    "print(\"==========LISTAS============\")\n",
    "\n",
    "paises = [\"Brasil\", \"Argentina\", \"Chile\", \"Peru\", \"Colombia\", \"Uruguai\", \"Paraguai\", \"Venezuela\", \"Equador\", \"Bolívia\"]\n",
    "\n",
    "print(f\"Há {len(paises)} países na lista.\")\n",
    "print(f\"O primeiro país da lista é: {paises[0]}\")\n",
    "print(f\"O último país da lista é: {paises[-1]}\")\n",
    "print(f\"Os países do meio da lista são: {paises[1:-1]}\")\n",
    "print(f\"O país no meio da lista é: {paises[5:-4]}\")\n",
    "print(f\"O país na posição 7 da lista é: {paises[7]}\")\n",
    "print(f\"As letras iniciais dos países são: {paises[0][0]}, {paises[1][0]}, {paises[2][0]}, {paises[3][0]}, {paises[4][0]}, {paises[5][0]}, {paises[6][0]}, {paises[7][0]}, {paises[8][0]}, {paises[9][0]}\")\n"
   ]
  },
  {
   "cell_type": "code",
   "execution_count": 41,
   "metadata": {},
   "outputs": [
    {
     "name": "stdout",
     "output_type": "stream",
     "text": [
      "Analisando informações inseridas pelo usuário\n",
      "Baseado nos dados fornecidos você:\n",
      "Se chama wesley, tem 26 anos, mora em Joinville, é Casado e reside no estado de SC\n"
     ]
    }
   ],
   "source": [
    "print(\"Analisando informações inseridas pelo usuário\")\n",
    "\n",
    "nome = input(\"Digite seu nome: \")\n",
    "anoNasc = int(input(\"Digite seu ano de Nascimento: \"))\n",
    "cidade = input(\"Digite sua cidade: \")\n",
    "estadoCivil = input(\"Digite seu estado civil: \")\n",
    "uf = input(\"Digite sua UF: \")\n",
    "\n",
    "print(f\"Baseado nos dados fornecidos você:\\nSe chama {nome}, tem {2025 - anoNasc} anos, mora em {cidade}, é {estadoCivil} e reside no estado de {uf}\")"
   ]
  },
  {
   "cell_type": "code",
   "execution_count": 47,
   "metadata": {},
   "outputs": [
    {
     "name": "stdout",
     "output_type": "stream",
     "text": [
      "========Usando Funções========\n",
      "========Função de soma========\n",
      "A soma de 10 e 5 é: 15\n",
      "========Função de subtração========\n",
      "A subtração de 120 e 45 é: 75\n",
      "========Função de multiplicação========\n",
      "A multiplicação de 3 e 5 é: 15\n",
      "========Função de divisão========\n",
      "A divisão de 10 e 2 é: 5.0\n",
      "========Função de potenciação========\n",
      "A potenciação de 2 e 3 é: 8\n",
      "========Função de raiz quadrada========\n",
      "A raiz quadrada de 9 é: 3.0\n",
      "========Função de raiz cúbica========\n",
      "A raiz cúbica de 27 é: 3.0\n",
      "========Função de média aritmética========\n",
      "A média aritmética de 10 e 20 é: 15.0\n"
     ]
    }
   ],
   "source": [
    "print(\"========Usando Funções========\")\n",
    "\n",
    "print(\"========Função de soma========\")\n",
    "def soma(a, b):\n",
    "    return a + b\n",
    "a = 10\n",
    "b = 5\n",
    "print(f\"A soma de {a} e {b} é: {soma(a, b)}\")\n",
    "\n",
    "print(\"========Função de subtração========\")\n",
    "def subtracao(a, b):\n",
    "    return a - b\n",
    "a = 120  \n",
    "b = 45  \n",
    "print(f\"A subtração de {a} e {b} é: {subtracao(a, b)}\")\n",
    "\n",
    "print(\"========Função de multiplicação========\")\n",
    "def multiplicacao(a, b):\n",
    "    return a * b\n",
    "a = 3   \n",
    "b = 5\n",
    "print(f\"A multiplicação de {a} e {b} é: {multiplicacao(a, b)}\")\n",
    "\n",
    "print(\"========Função de divisão========\")\n",
    "def divisao(a, b):\n",
    "    return a / b\n",
    "a = 10\n",
    "b = 2\n",
    "print(f\"A divisão de {a} e {b} é: {divisao(a, b)}\")\n",
    "\n",
    "print(\"========Função de potenciação========\")\n",
    "def potenciacao(a, b):\n",
    "    return a ** b\n",
    "a = 2\n",
    "b = 3\n",
    "print(f\"A potenciação de {a} e {b} é: {potenciacao(a, b)}\")\n",
    "\n",
    "print(\"========Função de raiz quadrada========\")\n",
    "def raizQuadrada(a):\n",
    "    return a ** 0.5\n",
    "a = 9\n",
    "print(f\"A raiz quadrada de {a} é: {raizQuadrada(a)}\")\n",
    "\n",
    "print(\"========Função de raiz cúbica========\")\n",
    "def raizCubica(a):\n",
    "    return a ** (1/3)\n",
    "a = 27\n",
    "print(f\"A raiz cúbica de {a} é: {raizCubica(a)}\")\n",
    "\n",
    "print(\"========Função de média aritmética========\")\n",
    "def mediaAritmetica(a, b):\n",
    "    return (a + b) / 2\n",
    "a = 10\n",
    "b = 20\n",
    "print(f\"A média aritmética de {a} e {b} é: {mediaAritmetica(a, b)}\")\n",
    "\n",
    "\n",
    "\n"
   ]
  },
  {
   "cell_type": "code",
   "execution_count": null,
   "metadata": {},
   "outputs": [],
   "source": []
  }
 ],
 "metadata": {
  "kernelspec": {
   "display_name": "DSA",
   "language": "python",
   "name": "python3"
  },
  "language_info": {
   "codemirror_mode": {
    "name": "ipython",
    "version": 3
   },
   "file_extension": ".py",
   "mimetype": "text/x-python",
   "name": "python",
   "nbconvert_exporter": "python",
   "pygments_lexer": "ipython3",
   "version": "3.13.1"
  }
 },
 "nbformat": 4,
 "nbformat_minor": 2
}
